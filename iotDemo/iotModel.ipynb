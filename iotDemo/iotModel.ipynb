{
 "cells": [
  {
   "cell_type": "code",
   "execution_count": 32,
   "id": "06a442e7-2d66-48e8-9e7a-45fb394170a0",
   "metadata": {},
   "outputs": [],
   "source": [
    "import boto3\n",
    "import pandas as pd\n",
    "from io import StringIO\n",
    "import matplotlib.pyplot as plt\n",
    "import seaborn as sns\n",
    "from sklearn.model_selection import train_test_split\n",
    "from sklearn.linear_model import LinearRegression"
   ]
  },
  {
   "cell_type": "code",
   "execution_count": null,
   "id": "e6e0cfa4-b4e8-440b-aaee-9905a82d2bc5",
   "metadata": {},
   "outputs": [],
   "source": [
    "!pip install seaborn scikit-learn sagemaker # Execute if import failed"
   ]
  },
  {
   "cell_type": "code",
   "execution_count": 23,
   "id": "dcf96479-14e8-4be0-b8d3-024fd8ddbe81",
   "metadata": {},
   "outputs": [],
   "source": [
    "def clean_dataset(df):\n",
    "    # Define the columns to keep\n",
    "    columns_to_keep = ['temp', 'location', 'time']\n",
    "    # Filter the DataFrame to keep only the desired columns\n",
    "    cleaned_df = df[columns_to_keep]\n",
    "    return cleaned_df"
   ]
  },
  {
   "cell_type": "code",
   "execution_count": 8,
   "id": "9c43a9c9-9ee2-4cce-b2ab-bb5c82e14132",
   "metadata": {},
   "outputs": [],
   "source": [
    "# Initialize boto3 client\n",
    "s3_client = boto3.client('s3')\n",
    "\n",
    "# Define bucket and channel\n",
    "bucket_name = 'iot-bucket-cydnirn'\n",
    "dataset_path = 'dataset/Version'"
   ]
  },
  {
   "cell_type": "code",
   "execution_count": 27,
   "id": "87f1f792-46fb-4fea-89ac-8da4d7b162b2",
   "metadata": {},
   "outputs": [],
   "source": [
    "response = s3_client.list_objects_v2(Bucket=bucket_name, Prefix=dataset_path)"
   ]
  },
  {
   "cell_type": "code",
   "execution_count": 28,
   "id": "2250f1b3-7aa0-48a6-bac1-8260e5648291",
   "metadata": {},
   "outputs": [],
   "source": [
    "objects = response.get('Contents', [])\n",
    "latest_object = max(objects, key=lambda x: x['LastModified'])\n",
    "latest_object_key = latest_object['Key']"
   ]
  },
  {
   "cell_type": "code",
   "execution_count": 29,
   "id": "09f76033-38fa-43e5-ad78-3d02fe17573f",
   "metadata": {},
   "outputs": [],
   "source": [
    "csv_obj = s3_client.get_object(Bucket=bucket_name, Key=latest_object_key)\n",
    "csv_data = csv_obj['Body'].read().decode('utf-8')"
   ]
  },
  {
   "cell_type": "code",
   "execution_count": 30,
   "id": "4b3931dc-2868-409a-a65e-4508ced708b1",
   "metadata": {},
   "outputs": [
    {
     "name": "stdout",
     "output_type": "stream",
     "text": [
      "   temp location                        time\n",
      "0    33  Jakarta  2024-06-02T22:02:31.666759\n",
      "1    40  Jakarta  2024-06-02T22:05:31.698154\n",
      "2    32  Jakarta  2024-06-02T22:04:01.681902\n",
      "3    43  Jakarta  2024-06-02T22:13:31.789782\n",
      "4    33  Jakarta  2024-06-02T22:14:01.795624\n"
     ]
    }
   ],
   "source": [
    "# Load the CSV data into a pandas DataFrame\n",
    "data = pd.read_csv(StringIO(csv_data))\n",
    "data = clean_dataset(data)\n",
    "print(data.head())"
   ]
  },
  {
   "cell_type": "code",
   "execution_count": null,
   "id": "43dc0fb7-77f8-42d5-8aeb-df9b636c1813",
   "metadata": {},
   "outputs": [],
   "source": [
    "# Convert 'time' column to datetime\n",
    "data['time'] = pd.to_datetime(data['time'])\n",
    "\n",
    "# Plot the temperature over time\n",
    "plt.figure(figsize=(12, 6))\n",
    "sns.lineplot(x='time', y='temp', data=data)\n",
    "plt.title('Temperature over Time')\n",
    "plt.xlabel('Time')\n",
    "plt.ylabel('Temperature')\n",
    "plt.show()"
   ]
  },
  {
   "cell_type": "code",
   "execution_count": 36,
   "id": "9ff73722-5d32-4596-bfc5-c71eb80e3460",
   "metadata": {},
   "outputs": [],
   "source": [
    "data['time'] = data['time'].astype('int64') // 10**9  # Convert time to seconds since epoch\n",
    "X = data[['time', 'location']]  # Features\n",
    "y = data['temp']  # Target"
   ]
  },
  {
   "cell_type": "code",
   "execution_count": 37,
   "id": "c31e139c-42ff-4d16-bc1d-934a7f8c4c3e",
   "metadata": {},
   "outputs": [],
   "source": [
    "# Encode 'location' as categorical variables\n",
    "X = pd.get_dummies(X, columns=['location'])\n",
    "\n",
    "# Split the data into training and testing sets\n",
    "X_train, X_test, y_train, y_test = train_test_split(X, y, test_size=0.2, random_state=42)\n"
   ]
  },
  {
   "cell_type": "code",
   "execution_count": 38,
   "id": "eca2af54-ffac-45f1-be0a-890c915f8931",
   "metadata": {},
   "outputs": [
    {
     "name": "stdout",
     "output_type": "stream",
     "text": [
      "Model R^2 score: -0.00\n"
     ]
    }
   ],
   "source": [
    "# Train the model\n",
    "model = LinearRegression()\n",
    "model.fit(X_train, y_train)\n",
    "\n",
    "# Evaluate the model\n",
    "score = model.score(X_test, y_test)\n",
    "print(f'Model R^2 score: {score:.2f}')"
   ]
  },
  {
   "cell_type": "code",
   "execution_count": 51,
   "id": "7ecbbd89-38a3-490e-8f1e-4593e8f81d62",
   "metadata": {},
   "outputs": [],
   "source": [
    "import sagemaker\n",
    "import tarfile\n",
    "from sagemaker.sklearn import SKLearnModel\n",
    "\n",
    "# Save the model\n",
    "import joblib\n",
    "joblib.dump(model, 'model.joblib')\n",
    "\n",
    "# Define an execution role\n",
    "role = 'arn:aws:iam::284845684968:role/service-role/AmazonSageMaker-ExecutionRole-20240602T140893'"
   ]
  },
  {
   "cell_type": "code",
   "execution_count": 55,
   "id": "4319d41a-ad5a-4a62-b623-b32d23e65917",
   "metadata": {},
   "outputs": [],
   "source": [
    "# Create Tar file\n",
    "\n",
    "with tarfile.open('model.tar.gz', 'w:gz') as tar:\n",
    "    tar.add('model.joblib')"
   ]
  },
  {
   "cell_type": "code",
   "execution_count": 56,
   "id": "e00f58f4-6c37-497e-9938-d6e1d6f3502f",
   "metadata": {},
   "outputs": [],
   "source": [
    "# Upload to S3\n",
    "s3_client.upload_file(\"model.tar.gz\", bucket_name, \"model/model.tar.gz\")\n",
    "s3_model_path = 's3://{}/model/model.tar.gz'.format(bucket_name)"
   ]
  },
  {
   "cell_type": "code",
   "execution_count": 58,
   "id": "b9f61eff-eb62-4055-8f3b-28aa858d5c48",
   "metadata": {
    "scrolled": true
   },
   "outputs": [
    {
     "name": "stdout",
     "output_type": "stream",
     "text": [
      "-----!"
     ]
    }
   ],
   "source": [
    "# Create a SageMaker SKLearn model\n",
    "sklearn_model = SKLearnModel(model_data=s3_model_path, role=role, entry_point='inference.py', py_version=\"py3\",  framework_version='0.23-1', name=\"Iot-model\")  # Ensure 'inference.py' is created for prediction\n",
    "\n",
    "# Deploy the model\n",
    "predictor = sklearn_model.deploy(initial_instance_count=1, instance_type='ml.m5.large')"
   ]
  },
  {
   "cell_type": "code",
   "execution_count": null,
   "id": "baab60b2-d2d8-4cfa-8c24-c9d72aa232f4",
   "metadata": {},
   "outputs": [],
   "source": [
    "# Example of making predictions\n",
    "data_sample = X_test.iloc[0:1]  # Use a sample from test set\n",
    "prediction = predictor.predict(data_sample)\n",
    "print(f'Predicted temperature: {prediction}')"
   ]
  },
  {
   "cell_type": "code",
   "execution_count": null,
   "id": "fad2cd17-37ab-408e-bdbe-8ad51fe1855f",
   "metadata": {},
   "outputs": [],
   "source": []
  }
 ],
 "metadata": {
  "kernelspec": {
   "display_name": "Python 3 (ipykernel)",
   "language": "python",
   "name": "python3"
  },
  "language_info": {
   "codemirror_mode": {
    "name": "ipython",
    "version": 3
   },
   "file_extension": ".py",
   "mimetype": "text/x-python",
   "name": "python",
   "nbconvert_exporter": "python",
   "pygments_lexer": "ipython3",
   "version": "3.10.14"
  }
 },
 "nbformat": 4,
 "nbformat_minor": 5
}
